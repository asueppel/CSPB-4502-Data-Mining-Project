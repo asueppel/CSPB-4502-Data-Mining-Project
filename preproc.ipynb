{
 "cells": [
  {
   "cell_type": "code",
   "execution_count": 43,
   "id": "b4e70b0a",
   "metadata": {
    "jupyter": {
     "source_hidden": true
    },
    "tags": []
   },
   "outputs": [],
   "source": [
    "import pandas as pd\n",
    "import numpy as np\n",
    "import dask.dataframe as dd\n",
    "import os"
   ]
  },
  {
   "cell_type": "code",
   "execution_count": 44,
   "id": "8f86ec00",
   "metadata": {},
   "outputs": [],
   "source": [
    "# define columns to import\n",
    "## by index\n",
    "cols = [0,1,2]\n",
    "## by name\n",
    "#cols = ['Date','City']"
   ]
  },
  {
   "cell_type": "code",
   "execution_count": 58,
   "id": "50066e94",
   "metadata": {},
   "outputs": [],
   "source": [
    "def chunkload (filename,cols):\n",
    "    chunksize = 10 ** 6\n",
    "    for chunk in pd.read_csv(filename, chunksize=chunksize, usecols=cols):\n",
    "        chunk.to_csv(\"new_\" + filename, mode='a', index=False)\n",
    "        \n",
    "def ddload (filename,cols):\n",
    "    df = dd.read_csv(filename, usecols=cols, assume_missing=True)\n",
    "    df.to_csv(\"new_\" + filename, index=False,single_file=True)\n",
    "\n",
    "def pdload (filename,cols):\n",
    "    df = pd.read_csv(filename,usecols=cols)\n",
    "    df.to_csv(\"new_\" + filename, index=False)\n"
   ]
  },
  {
   "cell_type": "code",
   "execution_count": 59,
   "id": "1e558231",
   "metadata": {},
   "outputs": [],
   "source": [
    "#chunkload('liquor.csv',cols) \n",
    "ddload('liquor.csv',cols)\n",
    "#pdload('liquor.csv',cols)"
   ]
  },
  {
   "cell_type": "code",
   "execution_count": null,
   "id": "cf201f68",
   "metadata": {},
   "outputs": [],
   "source": []
  }
 ],
 "metadata": {
  "kernelspec": {
   "display_name": "Python 3 (ipykernel)",
   "language": "python",
   "name": "python3"
  },
  "language_info": {
   "codemirror_mode": {
    "name": "ipython",
    "version": 3
   },
   "file_extension": ".py",
   "mimetype": "text/x-python",
   "name": "python",
   "nbconvert_exporter": "python",
   "pygments_lexer": "ipython3",
   "version": "3.7.11"
  }
 },
 "nbformat": 4,
 "nbformat_minor": 5
}
