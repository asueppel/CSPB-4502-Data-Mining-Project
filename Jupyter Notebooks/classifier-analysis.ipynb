{
 "cells": [
  {
   "cell_type": "code",
   "execution_count": 1,
   "id": "b8d5806f",
   "metadata": {
    "_cell_guid": "b1076dfc-b9ad-4769-8c92-a6c4dae69d19",
    "_uuid": "8f2839f25d086af736a60e9eeb907d3b93b6e0e5",
    "execution": {
     "iopub.execute_input": "2021-12-10T18:15:57.346256Z",
     "iopub.status.busy": "2021-12-10T18:15:57.342446Z",
     "iopub.status.idle": "2021-12-10T18:15:58.760927Z",
     "shell.execute_reply": "2021-12-10T18:15:58.761449Z",
     "shell.execute_reply.started": "2021-12-10T18:06:04.253651Z"
    },
    "papermill": {
     "duration": 1.436873,
     "end_time": "2021-12-10T18:15:58.761764",
     "exception": false,
     "start_time": "2021-12-10T18:15:57.324891",
     "status": "completed"
    },
    "tags": []
   },
   "outputs": [
    {
     "name": "stdout",
     "output_type": "stream",
     "text": [
      "/kaggle/input/iowa-liquor-sales-eda/Iowa_Liquor_Sales.csv\n"
     ]
    }
   ],
   "source": [
    "# This Python 3 environment comes with many helpful analytics libraries installed\n",
    "# It is defined by the kaggle/python Docker image: https://github.com/kaggle/docker-python\n",
    "# For example, here's several helpful packages to load\n",
    "\n",
    "import numpy as np # linear algebra\n",
    "import pandas as pd # data processing, CSV file I/O (e.g. pd.read_csv)\n",
    "import matplotlib.pyplot as plt\n",
    "from sklearn.preprocessing import OrdinalEncoder\n",
    "from sklearn.preprocessing import StandardScaler\n",
    "from sklearn.model_selection import train_test_split\n",
    "from sklearn.neighbors import KNeighborsClassifier\n",
    "from sklearn.naive_bayes import GaussianNB\n",
    "from sklearn.metrics import classification_report, confusion_matrix, accuracy_score\n",
    "import seaborn as sns\n",
    "\n",
    "# Input data files are available in the read-only \"../input/\" directory\n",
    "# For example, running this (by clicking run or pressing Shift+Enter) will list all files under the input directory\n",
    "\n",
    "import os\n",
    "for dirname, _, filenames in os.walk('/kaggle/input'):\n",
    "    for filename in filenames:\n",
    "        print(os.path.join(dirname, filename))\n",
    "\n",
    "# You can write up to 20GB to the current directory (/kaggle/working/) that gets preserved as output when you create a version using \"Save & Run All\" \n",
    "# You can also write temporary files to /kaggle/temp/, but they won't be saved outside of the current session"
   ]
  },
  {
   "cell_type": "code",
   "execution_count": 2,
   "id": "c689f5ab",
   "metadata": {
    "execution": {
     "iopub.execute_input": "2021-12-10T18:15:58.785011Z",
     "iopub.status.busy": "2021-12-10T18:15:58.784312Z",
     "iopub.status.idle": "2021-12-10T18:15:58.786092Z",
     "shell.execute_reply": "2021-12-10T18:15:58.786712Z",
     "shell.execute_reply.started": "2021-12-10T17:40:09.276055Z"
    },
    "papermill": {
     "duration": 0.015299,
     "end_time": "2021-12-10T18:15:58.786883",
     "exception": false,
     "start_time": "2021-12-10T18:15:58.771584",
     "status": "completed"
    },
    "tags": []
   },
   "outputs": [],
   "source": [
    "df = '/kaggle/input/iowa-liquor-sales-eda/Iowa_Liquor_Sales.csv'"
   ]
  },
  {
   "cell_type": "code",
   "execution_count": 3,
   "id": "0ab36c97",
   "metadata": {
    "execution": {
     "iopub.execute_input": "2021-12-10T18:15:58.809833Z",
     "iopub.status.busy": "2021-12-10T18:15:58.809145Z",
     "iopub.status.idle": "2021-12-10T18:16:18.569063Z",
     "shell.execute_reply": "2021-12-10T18:16:18.569760Z",
     "shell.execute_reply.started": "2021-12-10T17:40:09.282150Z"
    },
    "papermill": {
     "duration": 19.774589,
     "end_time": "2021-12-10T18:16:18.569997",
     "exception": false,
     "start_time": "2021-12-10T18:15:58.795408",
     "status": "completed"
    },
    "tags": []
   },
   "outputs": [
    {
     "name": "stderr",
     "output_type": "stream",
     "text": [
      "/opt/conda/lib/python3.7/site-packages/IPython/core/interactiveshell.py:3444: DtypeWarning: Columns (6) have mixed types.Specify dtype option on import or set low_memory=False.\n",
      "  exec(code_obj, self.user_global_ns, self.user_ns)\n"
     ]
    },
    {
     "name": "stdout",
     "output_type": "stream",
     "text": [
      "Invoice/Item Number       object\n",
      "Date                      object\n",
      "Store Number               int64\n",
      "Store Name                object\n",
      "Address                   object\n",
      "City                      object\n",
      "Zip Code                  object\n",
      "Store Location            object\n",
      "County Number            float64\n",
      "County                    object\n",
      "Category                 float64\n",
      "Category Name             object\n",
      "Vendor Number            float64\n",
      "Vendor Name               object\n",
      "Item Number                int64\n",
      "Item Description          object\n",
      "Pack                       int64\n",
      "Bottle Volume (ml)         int64\n",
      "State Bottle Cost        float64\n",
      "State Bottle Retail      float64\n",
      "Bottles Sold               int64\n",
      "Sale (Dollars)           float64\n",
      "Volume Sold (Liters)     float64\n",
      "Volume Sold (Gallons)    float64\n",
      "dtype: object\n"
     ]
    }
   ],
   "source": [
    "uni_set = pd.read_csv(df, nrows = 2500000)\n",
    "print(uni_set.dtypes)"
   ]
  },
  {
   "cell_type": "code",
   "execution_count": 4,
   "id": "bf88951d",
   "metadata": {
    "execution": {
     "iopub.execute_input": "2021-12-10T18:16:18.610017Z",
     "iopub.status.busy": "2021-12-10T18:16:18.609259Z",
     "iopub.status.idle": "2021-12-10T18:16:26.756647Z",
     "shell.execute_reply": "2021-12-10T18:16:26.756035Z",
     "shell.execute_reply.started": "2021-12-10T17:47:40.722525Z"
    },
    "papermill": {
     "duration": 8.171268,
     "end_time": "2021-12-10T18:16:26.756812",
     "exception": false,
     "start_time": "2021-12-10T18:16:18.585544",
     "status": "completed"
    },
    "tags": []
   },
   "outputs": [],
   "source": [
    "# uni_zip = [50011, 50112, 50125, 50140, 50219, 50311, 50316, 50436, 50588, 50614, 50677, 51041, 51104, 51106, 51250, 52001, 52004, 52101, 52142, 52242, 52314,\n",
    "#            52402, 52577, 52803]\n",
    "\n",
    "uni_zip = ['50011', '50112', '50125', '50140', '50219', '50311', '50316', '50436', '50588', '50614', '50677', '51041', '51104', '51106', '51250', '52001', \n",
    "           '52004', '52101', '52142', '52242', '52314', '52402', '52577', '52803']\n",
    "\n",
    "uni_set['University'] = uni_set['Zip Code'].apply(lambda x: True if x in uni_zip else False)\n",
    "\n",
    "uni_set = uni_set[uni_set['County'].notna()]\n",
    "\n",
    "# uni_set['County'] = uni_set['County'].str.upper()\n",
    "# uni_set['City'] = uni_set['City'].str.upper()\n",
    "\n",
    "enc = OrdinalEncoder()\n",
    "\n",
    "uni_set[['County']] = enc.fit_transform(uni_set[['County']])\n",
    "uni_set[['City']] = enc.fit_transform(uni_set[['City']])\n",
    "uni_set[['Item Description']] = enc.fit_transform(uni_set[['Item Description']])"
   ]
  },
  {
   "cell_type": "code",
   "execution_count": 5,
   "id": "7ce87cc0",
   "metadata": {
    "execution": {
     "iopub.execute_input": "2021-12-10T18:16:26.782021Z",
     "iopub.status.busy": "2021-12-10T18:16:26.780930Z",
     "iopub.status.idle": "2021-12-10T18:16:26.783440Z",
     "shell.execute_reply": "2021-12-10T18:16:26.784430Z",
     "shell.execute_reply.started": "2021-12-10T17:48:54.493651Z"
    },
    "papermill": {
     "duration": 0.017752,
     "end_time": "2021-12-10T18:16:26.784718",
     "exception": false,
     "start_time": "2021-12-10T18:16:26.766966",
     "status": "completed"
    },
    "tags": []
   },
   "outputs": [],
   "source": [
    "#uni_set.head(15)\n",
    "#print(uni_set[6000:6030])"
   ]
  },
  {
   "cell_type": "code",
   "execution_count": 6,
   "id": "473e6ea7",
   "metadata": {
    "execution": {
     "iopub.execute_input": "2021-12-10T18:16:26.808330Z",
     "iopub.status.busy": "2021-12-10T18:16:26.807315Z",
     "iopub.status.idle": "2021-12-10T18:16:29.439150Z",
     "shell.execute_reply": "2021-12-10T18:16:29.439797Z",
     "shell.execute_reply.started": "2021-12-10T18:07:58.230654Z"
    },
    "papermill": {
     "duration": 2.645726,
     "end_time": "2021-12-10T18:16:29.440045",
     "exception": false,
     "start_time": "2021-12-10T18:16:26.794319",
     "status": "completed"
    },
    "tags": []
   },
   "outputs": [
    {
     "name": "stdout",
     "output_type": "stream",
     "text": [
      "[[487808      0]\n",
      " [ 10743      0]]\n",
      "0.9784515525994332\n"
     ]
    },
    {
     "name": "stderr",
     "output_type": "stream",
     "text": [
      "/opt/conda/lib/python3.7/site-packages/sklearn/metrics/_classification.py:1221: UndefinedMetricWarning: Precision and F-score are ill-defined and being set to 0.0 in labels with no predicted samples. Use `zero_division` parameter to control this behavior.\n",
      "  _warn_prf(average, modifier, msg_start, len(result))\n"
     ]
    },
    {
     "name": "stdout",
     "output_type": "stream",
     "text": [
      "              precision    recall  f1-score   support\n",
      "\n",
      "       False       0.98      1.00      0.99    487808\n",
      "        True       0.00      0.00      0.00     10743\n",
      "\n",
      "    accuracy                           0.98    498551\n",
      "   macro avg       0.49      0.50      0.49    498551\n",
      "weighted avg       0.96      0.98      0.97    498551\n",
      "\n"
     ]
    },
    {
     "data": {
      "image/png": "[encoded data removed]",
      "text/plain": [
       "<Figure size 432x288 with 2 Axes>"
      ]
     },
     "metadata": {
      "needs_background": "light"
     },
     "output_type": "display_data"
    }
   ],
   "source": [
    "W = uni_set.iloc[:, [9, 19]].values\n",
    "z = uni_set.iloc[:, -1].values\n",
    "\n",
    "W_train, W_test, z_train, z_test = train_test_split(W, z, test_size=0.20, random_state = 0)\n",
    "\n",
    "sc = StandardScaler()\n",
    "W_train = sc.fit_transform(W_train)\n",
    "W_test = sc.transform(W_test)\n",
    "\n",
    "classifier = GaussianNB()\n",
    "classifier.fit(W_train, z_train)\n",
    "\n",
    "z_pred = classifier.predict(W_test)\n",
    "\n",
    "cf_matrix = confusion_matrix(z_test, z_pred)\n",
    "\n",
    "labels = ['True Neg', 'False Pos', 'False Neg', 'True Pos']\n",
    "labels = np.asarray(labels).reshape(2, 2)\n",
    "sns.heatmap(cf_matrix, annot = labels, fmt = '', cmap = 'Blues')\n",
    "print(cf_matrix)\n",
    "print(accuracy_score(z_test, z_pred))\n",
    "print(classification_report(z_test, z_pred))"
   ]
  },
  {
   "cell_type": "code",
   "execution_count": 7,
   "id": "9063a95f",
   "metadata": {
    "execution": {
     "iopub.execute_input": "2021-12-10T18:16:29.490216Z",
     "iopub.status.busy": "2021-12-10T18:16:29.473690Z",
     "iopub.status.idle": "2021-12-10T18:17:37.009866Z",
     "shell.execute_reply": "2021-12-10T18:17:37.009308Z",
     "shell.execute_reply.started": "2021-12-10T18:06:08.947568Z"
    },
    "papermill": {
     "duration": 67.553584,
     "end_time": "2021-12-10T18:17:37.010029",
     "exception": false,
     "start_time": "2021-12-10T18:16:29.456445",
     "status": "completed"
    },
    "tags": []
   },
   "outputs": [
    {
     "name": "stdout",
     "output_type": "stream",
     "text": [
      "[[485455   2274]\n",
      " [  6016   4806]]\n",
      "0.9833718115097553\n",
      "              precision    recall  f1-score   support\n",
      "\n",
      "       False       0.99      1.00      0.99    487729\n",
      "        True       0.68      0.44      0.54     10822\n",
      "\n",
      "    accuracy                           0.98    498551\n",
      "   macro avg       0.83      0.72      0.76    498551\n",
      "weighted avg       0.98      0.98      0.98    498551\n",
      "\n"
     ]
    },
    {
     "data": {
      "image/png": "[encoded data removed]",
      "text/plain": [
       "<Figure size 432x288 with 2 Axes>"
      ]
     },
     "metadata": {
      "needs_background": "light"
     },
     "output_type": "display_data"
    }
   ],
   "source": [
    "X = uni_set.iloc[:, [9, 19]].values\n",
    "y = uni_set.iloc[:, -1].values\n",
    "\n",
    "X_train, X_test, y_train, y_test = train_test_split(X, y, test_size=0.20)\n",
    "\n",
    "sc = StandardScaler()\n",
    "X_train = sc.fit_transform(X_train)\n",
    "X_test = sc.transform(X_test)\n",
    "\n",
    "classifier = KNeighborsClassifier(n_neighbors=20)\n",
    "classifier.fit(X_train, y_train)\n",
    "\n",
    "y_pred = classifier.predict(X_test)\n",
    "\n",
    "cf_matrix = confusion_matrix(y_test, y_pred)\n",
    "\n",
    "labels = ['True Neg', 'False Pos', 'False Neg', 'True Pos']\n",
    "labels = np.asarray(labels).reshape(2, 2)\n",
    "sns.heatmap(cf_matrix, annot = labels, fmt = '', cmap = 'Blues')\n",
    "print(cf_matrix)\n",
    "print(accuracy_score(y_test, y_pred))\n",
    "print(classification_report(y_test, y_pred))"
   ]
  },
  {
   "cell_type": "code",
   "execution_count": 8,
   "id": "80d74a99",
   "metadata": {
    "execution": {
     "iopub.execute_input": "2021-12-10T18:17:37.041295Z",
     "iopub.status.busy": "2021-12-10T18:17:37.040225Z",
     "iopub.status.idle": "2021-12-10T18:17:43.331606Z",
     "shell.execute_reply": "2021-12-10T18:17:43.332063Z",
     "shell.execute_reply.started": "2021-12-10T18:14:11.566203Z"
    },
    "papermill": {
     "duration": 6.308503,
     "end_time": "2021-12-10T18:17:43.332237",
     "exception": false,
     "start_time": "2021-12-10T18:17:37.023734",
     "status": "completed"
    },
    "tags": []
   },
   "outputs": [
    {
     "name": "stdout",
     "output_type": "stream",
     "text": [
      "                       County  Category Name  Item Description  \\\n",
      "County               1.000000       0.022153          0.007793   \n",
      "Category Name        0.022153       1.000000         -0.067484   \n",
      "Item Description     0.007793      -0.067484          1.000000   \n",
      "State Bottle Retail  0.006539       0.166407         -0.007543   \n",
      "University           0.031239       0.052520          0.007978   \n",
      "\n",
      "                     State Bottle Retail  University  \n",
      "County                          0.006539    0.031239  \n",
      "Category Name                   0.166407    0.052520  \n",
      "Item Description               -0.007543    0.007978  \n",
      "State Bottle Retail             1.000000   -0.013305  \n",
      "University                     -0.013305    1.000000  \n"
     ]
    },
    {
     "data": {
      "image/png": "[encoded data removed]",
      "text/plain": [
       "<Figure size 432x288 with 2 Axes>"
      ]
     },
     "metadata": {
      "needs_background": "light"
     },
     "output_type": "display_data"
    }
   ],
   "source": [
    "uni_set = uni_set.drop(['Invoice/Item Number', 'Date', 'Store Number', 'Store Name', 'Address', 'Store Location', 'County Number', 'Category', 'Vendor Number', 'Vendor Name', 'Item Number', 'Pack',\n",
    "             'Bottle Volume (ml)', 'State Bottle Cost', 'Bottles Sold', 'Sale (Dollars)', 'Volume Sold (Liters)', 'Volume Sold (Gallons)', 'Zip Code', 'City'], axis = 1)\n",
    "\n",
    "uni_set = uni_set[uni_set['Category Name'].notna()]\n",
    "\n",
    "enc = OrdinalEncoder()\n",
    "sc = StandardScaler()\n",
    "\n",
    "uni_set[['County']] = enc.fit_transform(uni_set[['County']])\n",
    "uni_set[['Category Name']] = enc.fit_transform(uni_set[['Category Name']])\n",
    "uni_set[['Item Description']] = enc.fit_transform(uni_set[['Item Description']])\n",
    "uni_set_scale = sc.fit_transform(uni_set.to_numpy())\n",
    "uni_set_scale = pd.DataFrame(uni_set_scale)\n",
    "uni_set_scale.columns = ['County', 'Category Name', 'Item Description', 'State Bottle Retail', 'University']\n",
    "\n",
    "#print(\" \\nCount total NaN at each column in a DataFrame : \\n\\n\", df.isnull().sum())\n",
    "\n",
    "#print(uni_set.head(15))\n",
    "\n",
    "correlation = uni_set_scale.corr()\n",
    "print(correlation)\n",
    "sns.heatmap(correlation)\n",
    "plt.show()"
   ]
  }
 ],
 "metadata": {
  "kernelspec": {
   "display_name": "Python 3",
   "language": "python",
   "name": "python3"
  },
  "language_info": {
   "codemirror_mode": {
    "name": "ipython",
    "version": 3
   },
   "file_extension": ".py",
   "mimetype": "text/x-python",
   "name": "python",
   "nbconvert_exporter": "python",
   "pygments_lexer": "ipython3",
   "version": "3.7.12"
  },
  "papermill": {
   "default_parameters": {},
   "duration": 116.931949,
   "end_time": "2021-12-10T18:17:44.056368",
   "environment_variables": {},
   "exception": null,
   "input_path": "__notebook__.ipynb",
   "output_path": "__notebook__.ipynb",
   "parameters": {},
   "start_time": "2021-12-10T18:15:47.124419",
   "version": "2.3.3"
  }
 },
 "nbformat": 4,
 "nbformat_minor": 5
}
